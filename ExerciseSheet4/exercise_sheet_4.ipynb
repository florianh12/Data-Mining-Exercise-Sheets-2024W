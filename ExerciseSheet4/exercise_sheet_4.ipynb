{
 "cells": [
  {
   "cell_type": "markdown",
   "id": "15178aa8-ddd4-4b94-8d76-ef300389efa0",
   "metadata": {},
   "source": [
    "# **Exercise Sheet 4: Deep Learning on Sets and Graphs**"
   ]
  },
  {
   "cell_type": "code",
   "execution_count": 220,
   "id": "45615cbe-0a46-41b4-9f5c-6d80ad4c307e",
   "metadata": {},
   "outputs": [],
   "source": [
    "from sklearn.model_selection import train_test_split\n",
    "import numpy as np\n",
    "from itertools import combinations\n",
    "import matplotlib.pyplot as plt\n",
    "from torch import nn, FloatTensor\n",
    "from torch.optim import Adam\n",
    "from torch.nn import Linear, ModuleList, ReLU, Sigmoid, Sequential\n",
    "import torch.nn.functional as F\n",
    "import torch"
   ]
  },
  {
   "cell_type": "markdown",
   "id": "6a94b35d-89db-4be4-b4e0-da4edcfb0676",
   "metadata": {},
   "source": [
    "## **Exercise 4-1** *Invariant functions and permutation groups*\n",
    "\n",
    "A function $f:\\mathbb{R}^n \\rightarrow Y$ is said to be invariant to a subgroup $G$ of the symmetric group $S_n$ if for all $\\pi$ in $G$\n",
    "\n",
    "$$f(\\pi(x)) = f(x)\\ for\\ all\\ x \\in \\mathbb{R}^n,$$\n",
    "\n",
    "where $\\pi(x_1,x_2,\\dots,x_n) = (x_{\\pi(1)},x_{\\pi(2)},\\dots,x_{\\pi(n)})$. A set of permutations $P$ together with the composition of functions denoted by $\\circ$ is a permutation group if\n",
    "\n",
    " - $P$ is closed under composition, i.e., for all $\\pi,\\sigma$ in $P$ the permutation $\\pi \\circ \\sigma$ is in $P$,\n",
    " - the identity permutation $i \\rightarrow i$ for $i$ in $\\{1,2,\\dots,n\\}$ is in $P$, and\n",
    " - for all $\\pi$ in $P$ the inverse $\\pi^{-1}$ is in $P$.\n",
    "\n",
    "Let $P \\subseteq S_n$ be a set of permutations and $f:\\mathbb{R}^n \\rightarrow Y$ be a function that satisfies the Equation above for all $\\pi$ in $P$. Show\n",
    "that there is a set $G$ with $P \\subseteq G \\subseteq S_n$ such that $G$ forms a permutation group and $f$ is invariant to $G$."
   ]
  },
  {
   "cell_type": "markdown",
   "id": "9b284ab3-700f-443a-b7de-10a3ee14fa86",
   "metadata": {},
   "source": [
    "Let us assume that subset $G$ only contains the smallest possible subset $P$ that is also a permutation group, therefore only containing the identity permutation.\n",
    "\n",
    "This would fulfill the property that $\\pi \\circ \\sigma$ is in $P$, since $\\pi_{identity} \\circ \\pi_{identity} = \\pi_{identity}$.\n",
    "\n",
    "This would also fulfill the property, that the identity permutation is in $P$, the proof of this is trivial.\n",
    "\n",
    "Finally this would fulfill the property that for all $\\pi$, $\\pi^{-1}$ is in $P$, since $\\pi(x) = \\pi(\\pi(x)) = x$\n",
    "\n",
    "Therefore $P$ is a permutation group.\n",
    "\n",
    "Since $G$ only contains $P$, we need only to look at the identity permutation in order to prove that $f$ is invariant to $G$.\n",
    "\n",
    "Since $\\pi_{identity}(x) = x$, we can conclude, that $f(\\pi(x)) = f(x)\\ \\forall x \\in \\mathbb{R}^n$, making $f$ invariant to $G$."
   ]
  },
  {
   "cell_type": "markdown",
   "id": "228de492-902d-4ec3-937d-0c068ade1908",
   "metadata": {},
   "source": [
    "## **Exercise 4-2** *Implementation of set functions*\n",
    "Consider the ground truth function $g : \\{0,1,\\dots,9\\}^{10} \\rightarrow \\{-1,+1\\}$ with\n",
    "\n",
    "$$g(x) = \\begin{cases}\n",
    "            +1 \\text{ if there are distinct i, j, k} \\in \\{1,\\dots,10\\} with\\ x_i+x_j+x_k = 5 \\\\\n",
    "            -1\\ otherwise\n",
    "          \\end{cases}$$\n",
    "We would like to learn the function from training data using a neural network."
   ]
  },
  {
   "cell_type": "markdown",
   "id": "f8a73bd8-bafb-42b3-8852-370a680e8bf5",
   "metadata": {},
   "source": [
    "### **a)** *Write code to create a dataset with class labels according to the function $g$. The ten components of each data point should be drawn uniformly at random from $\\{0,1,\\dots,9\\}$. The number of data points can be adjusted for the later tasks.*"
   ]
  },
  {
   "cell_type": "code",
   "execution_count": 169,
   "id": "e5bfb433-ca22-4388-93f6-bfcf6af1143f",
   "metadata": {},
   "outputs": [],
   "source": [
    "def generate_dataset(size):\n",
    "    X = np.random.randint(low=0,high=10,size=(size,10))\n",
    "    y = np.ones(size, dtype=int)\n",
    "    for index, x in enumerate(X):\n",
    "        if not any(sum(x[list(indices)]) == 5 for indices in combinations(range(len(point)),3)):\n",
    "           y[index] = -1\n",
    "    return X, y\n",
    "\n",
    "X, y = generate_dataset(20000)\n",
    "\n"
   ]
  },
  {
   "cell_type": "markdown",
   "id": "0688639e-7582-4f56-af69-03b4f4545047",
   "metadata": {},
   "source": [
    "### **b)** *Compute statistics of your dataset (e.g., class balance) and split the data into training and test sets.*"
   ]
  },
  {
   "cell_type": "code",
   "execution_count": 170,
   "id": "70319596-c639-4fc6-9b86-bbbe1b337996",
   "metadata": {},
   "outputs": [
    {
     "data": {
      "image/png": "[encoded data removed]",
      "text/plain": [
       "<Figure size 640x480 with 1 Axes>"
      ]
     },
     "metadata": {},
     "output_type": "display_data"
    }
   ],
   "source": [
    "classes, counts = np.unique(y, return_counts=True)\n",
    "plt.bar(classes, counts, color=['blue','green'])\n",
    "plt.xticks(classes)\n",
    "plt.title(\"Class Balance\")\n",
    "plt.xlabel(\"Classes\")\n",
    "plt.ylabel(\"Number of Points\")\n",
    "plt.show()"
   ]
  },
  {
   "cell_type": "code",
   "execution_count": 171,
   "id": "584d0145-e75f-4066-932c-16ca464e9944",
   "metadata": {},
   "outputs": [],
   "source": [
    "X_train, X_test, y_train, y_test = train_test_split(X,y,train_size=0.8, random_state=42)\n",
    "\n",
    "#convert to torch readable format\n",
    "X_train = FloatTensor(X_train).view(-1, 10)\n",
    "X_test = FloatTensor(X_test).view(-1, 10)\n",
    "y_train = FloatTensor((y_train == 1).astype(float)).unsqueeze(1)\n",
    "y_test = FloatTensor((y_test == 1).astype(float)).unsqueeze(1)"
   ]
  },
  {
   "cell_type": "markdown",
   "id": "336fe82a-38e4-4966-ac39-6bcc86632c56",
   "metadata": {},
   "source": [
    "### **c)** *Implement a permutation-sensitive neural network and train and evaluate it using your data set. Try different parameters of your network (e.g., learning rate, hidden dimension, number of layers, activation function) and report your results.*"
   ]
  },
  {
   "cell_type": "code",
   "execution_count": 172,
   "id": "b9900b33-aea7-4807-a915-7eef38a0feab",
   "metadata": {},
   "outputs": [],
   "source": [
    "class PermutationSensitiveNN(nn.Module):\n",
    "    def __init__(self, hidden_channels=42, hidden_layers=1):\n",
    "        super(PermutationSensitiveNN, self).__init__()\n",
    "        self.input_layer = Linear(X.shape[1], hidden_channels)\n",
    "        self.hidden_layers = ModuleList()\n",
    "        for _ in range(hidden_layers):\n",
    "            self.hidden_layers.append(Linear(hidden_channels, hidden_channels))\n",
    "        self.output_layer = Linear(hidden_channels,1)\n",
    "        self.activation_func = ReLU()\n",
    "        self.output_activation = Sigmoid()\n",
    "    def forward(self, x):\n",
    "        x = self.activation_func(self.input_layer(x))\n",
    "\n",
    "        for layer in self.hidden_layers[:-1]:\n",
    "            x = self.activation_func(layer(x))\n",
    "        x = self.hidden_layers[-1](x)\n",
    "\n",
    "        # 2. Apply dropout and a final linear layer\n",
    "        x = F.dropout(x, p=0.2, training=self.training)\n",
    "        x = self.output_layer(x)\n",
    "\n",
    "        return self.output_activation(x)"
   ]
  },
  {
   "cell_type": "code",
   "execution_count": 185,
   "id": "a8d0885d-e5ae-404f-8fbf-3135fa26ae99",
   "metadata": {},
   "outputs": [],
   "source": [
    "def train_test(model, X_train, y_train, X_test, y_test, epochs,learning_rates):\n",
    "    criterion = nn.BCELoss()\n",
    "    final_accuracies = []\n",
    "    for lr in learning_rates:\n",
    "        optimizer = Adam(model.parameters(), lr=lr)\n",
    "        for epoch in range (1,epochs+1):\n",
    "            model.train()\n",
    "            optimizer.zero_grad()\n",
    "    \n",
    "            out = model(X_train)\n",
    "            loss = criterion(out, y_train)\n",
    "            loss.backward()\n",
    "            optimizer.step()\n",
    "    \n",
    "            model.eval()\n",
    "            \n",
    "            with torch.no_grad():\n",
    "                out = model(X_test)\n",
    "                test_acc = ((out > 0.5) == y_test).float().mean().item()\n",
    "                out = model(X_train)\n",
    "                train_acc = ((out > 0.5) == y_train).float().mean().item()\n",
    "        final_accuracies.append((train_acc,test_acc))\n",
    "    return final_accuracies"
   ]
  },
  {
   "cell_type": "code",
   "execution_count": 203,
   "id": "6ad00343-3430-4383-a798-24976e3b6319",
   "metadata": {},
   "outputs": [
    {
     "name": "stdout",
     "output_type": "stream",
     "text": [
      "-----Hidden Layers-----Learning Rate-----Train Accuracy-----Test Accuracy-----\n",
      "\t   1\t\t    0.02\t     0.8486\t\t0.8453\n",
      "\t   1\t\t    0.01\t     0.8503\t\t0.8468\n",
      "\t   1\t\t    0.001\t     0.8515\t\t0.8453\n",
      "\t   2\t\t    0.02\t     0.8505\t\t0.8378\n",
      "\t   2\t\t    0.01\t     0.8524\t\t0.8425\n",
      "\t   2\t\t    0.001\t     0.8534\t\t0.8420\n",
      "\t   3\t\t    0.02\t     0.8694\t\t0.8472\n",
      "\t   3\t\t    0.01\t     0.8798\t\t0.8405\n",
      "\t   3\t\t    0.001\t     0.8838\t\t0.8413\n",
      "\t   4\t\t    0.02\t     0.8926\t\t0.8183\n",
      "\t   4\t\t    0.01\t     0.9201\t\t0.8027\n",
      "\t   4\t\t    0.001\t     0.9347\t\t0.7980\n",
      "\t   5\t\t    0.02\t     0.8936\t\t0.8158\n",
      "\t   5\t\t    0.01\t     0.9149\t\t0.7865\n",
      "\t   5\t\t    0.001\t     0.9587\t\t0.7928\n"
     ]
    }
   ],
   "source": [
    "learning_rates = [0.02, 0.01, 0.001]\n",
    "print(\"-----Hidden Layers-----Learning Rate-----Train Accuracy-----Test Accuracy-----\")\n",
    "for layers in range(1,5+1):\n",
    "    model = PermutationSensitiveNN(hidden_channels=42, hidden_layers=layers)\n",
    "    #490\n",
    "    accuracies = train_test(model=model, X_train=X_train, y_train=y_train, X_test=X_test, y_test=y_test, epochs=490, learning_rates=learning_rates)\n",
    "    for lr, (train_acc, test_acc) in zip(learning_rates, accuracies):\n",
    "        print(f\"\\t   {layers}\\t\\t    {lr}\\t     {train_acc:.4f}\\t\\t{test_acc:.4f}\")\n",
    "    "
   ]
  },
  {
   "cell_type": "markdown",
   "id": "88d81a99-effa-451f-af05-901cb3910d8d",
   "metadata": {},
   "source": [
    "### **d)** *Implement a permutation-invariant neural network discussed in the lecture (e.g., Deep Sets, Janossy pooling, Deep Sets with attention) and train and evaluate it using your data set. Try different parameters of your network (e.g., realizations of the functions $\\rho$ and $\\phi$) and report your results.*"
   ]
  },
  {
   "cell_type": "code",
   "execution_count": 229,
   "id": "e656932e-dd05-44f0-80d6-afe4f01de576",
   "metadata": {},
   "outputs": [],
   "source": [
    "class DeepSet(nn.Module):\n",
    "    def __init__(self, hidden_channels=42):\n",
    "        super(DeepSet, self).__init__()\n",
    "        self.phi = Sequential(\n",
    "            Linear(X.shape[1], hidden_channels),\n",
    "            ReLU(),\n",
    "            Linear(hidden_channels, hidden_channels),\n",
    "            ReLU(),\n",
    "        )\n",
    "        self.rho = Sequential(\n",
    "            Linear(hidden_channels, hidden_channels),\n",
    "            ReLU(),\n",
    "            Linear(hidden_channels, 1),\n",
    "            Sigmoid()\n",
    "        )\n",
    "    def forward(self, x):\n",
    "        x = self.phi(x)\n",
    "\n",
    "        x = torch.sum(x, dim=1)\n",
    "\n",
    "        x = self.rho(x)\n",
    "        return x\n"
   ]
  },
  {
   "cell_type": "code",
   "execution_count": 238,
   "id": "89282bf2-410c-4f36-8e16-ce7213624b16",
   "metadata": {},
   "outputs": [
    {
     "name": "stdout",
     "output_type": "stream",
     "text": [
      "-----Hidden Channels-----Learning Rate-----Train Accuracy-----Test Accuracy-----\n",
      "\t   24\t\t    0.02\t     0.8970\t\t0.8980\n",
      "\t   24\t\t    0.01\t     0.8970\t\t0.8980\n",
      "\t   24\t\t    0.001\t     0.8986\t\t0.9020\n",
      "\t   42\t\t    0.02\t     0.8988\t\t0.9010\n",
      "\t   42\t\t    0.01\t     0.9107\t\t0.9103\n",
      "\t   42\t\t    0.001\t     0.9230\t\t0.9212\n",
      "\t   56\t\t    0.02\t     0.8781\t\t0.8785\n",
      "\t   56\t\t    0.01\t     0.8978\t\t0.9020\n",
      "\t   56\t\t    0.001\t     0.8955\t\t0.8980\n",
      "\t   69\t\t    0.02\t     0.8962\t\t0.8982\n",
      "\t   69\t\t    0.01\t     0.9020\t\t0.9000\n",
      "\t   69\t\t    0.001\t     0.9059\t\t0.9047\n",
      "\t   96\t\t    0.02\t     0.6367\t\t0.6348\n",
      "\t   96\t\t    0.01\t     0.6367\t\t0.6348\n",
      "\t   96\t\t    0.001\t     0.6367\t\t0.6348\n"
     ]
    }
   ],
   "source": [
    "# convert data to 3d space for individual point processing\n",
    "X_train = X_train.view(-1,10,1)\n",
    "X_test = X_test.view(-1,10,1)\n",
    "\n",
    "\n",
    "learning_rates = [0.02, 0.01, 0.001]\n",
    "hidden_channels = [24, 42, 56, 69, 96]\n",
    "print(\"-----Hidden Channels-----Learning Rate-----Train Accuracy-----Test Accuracy-----\")\n",
    "for channels in hidden_channels:\n",
    "    model = DeepSet(hidden_channels=channels)\n",
    "    #490\n",
    "    accuracies = train_test(model=model, X_train=X_train, y_train=y_train, X_test=X_test, y_test=y_test, epochs=490, learning_rates=learning_rates)\n",
    "    for lr, (train_acc, test_acc) in zip(learning_rates, accuracies):\n",
    "        print(f\"\\t   {channels}\\t\\t    {lr}\\t     {train_acc:.4f}\\t\\t{test_acc:.4f}\")"
   ]
  },
  {
   "cell_type": "markdown",
   "id": "6cd84403-6a3f-42dd-9b05-cc874f332f63",
   "metadata": {},
   "source": [
    "### **e)** *Discuss whether your results in tasks **c)** and **d)** meet your expectations. Give reasons for your answer.*"
   ]
  },
  {
   "cell_type": "markdown",
   "id": "bf0a91db-84c4-47ad-8a6c-50810e7c7af2",
   "metadata": {},
   "source": [
    "While I did expect a Test accuracy of around 0.8 to 0.85 for **c)**, I did not expect that the accuracy would fall when using 4 or more layers (although this could be attributed to the amount of epochs, since neither train nor Test accuraccy are almost 1.0).\n",
    "\n",
    "I expected that, since the hypothesis class did grow larger, I would get better overall results, therefore my expectations weren't met.\n",
    "\n",
    "I also expected slower learning rates to give better Test Accuracy for the neural network, which also wasn't the case, since my best value was when the learning rate was 0.02.\n",
    "\n",
    "In regad to **d)** my expectation that a slower learning rate, leads to a better result was met, as I got my best results with a learning rate of 0.001.\n",
    "\n",
    "However, the expectation, that if I increase the hidden channels (or nodes per hidden layer), I get better results, were not met, since I got the worst Test Accuracy with 96 hidden channels.\n",
    "\n",
    "The reason why I expected a slower leraning rate to be more effective, was, that I thought I would jump over the better local optimum otherwise, but it seems to only be relevant for the deep set, maybe there aren't that many local optima for the \"normal\" neural network.\n",
    "\n",
    "The reason why I thought increasing the hidden channels might help, was again to increase the hypothesis class, but maybe that would again have needed a lot more epochs."
   ]
  }
 ],
 "metadata": {
  "kernelspec": {
   "display_name": "Python 3 (ipykernel)",
   "language": "python",
   "name": "python3"
  },
  "language_info": {
   "codemirror_mode": {
    "name": "ipython",
    "version": 3
   },
   "file_extension": ".py",
   "mimetype": "text/x-python",
   "name": "python",
   "nbconvert_exporter": "python",
   "pygments_lexer": "ipython3",
   "version": "3.12.7"
  }
 },
 "nbformat": 4,
 "nbformat_minor": 5
}
