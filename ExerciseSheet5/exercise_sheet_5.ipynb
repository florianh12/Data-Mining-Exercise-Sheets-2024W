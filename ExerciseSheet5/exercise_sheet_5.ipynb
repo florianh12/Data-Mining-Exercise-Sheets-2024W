{
 "cells": [
  {
   "cell_type": "markdown",
   "id": "15178aa8-ddd4-4b94-8d76-ef300389efa0",
   "metadata": {},
   "source": [
    "# **Exercise Sheet 5: Diffusion Processes on Graphs**"
   ]
  },
  {
   "cell_type": "code",
   "execution_count": 1,
   "id": "45615cbe-0a46-41b4-9f5c-6d80ad4c307e",
   "metadata": {},
   "outputs": [],
   "source": [
    "from tabulate import tabulate\n",
    "from scipy.stats import kendalltau, spearmanr\n",
    "\n",
    "import networkx as nx\n",
    "import random\n",
    "import numpy as np\n",
    "import time\n",
    "import pandas as pd"
   ]
  },
  {
   "cell_type": "markdown",
   "id": "6a94b35d-89db-4be4-b4e0-da4edcfb0676",
   "metadata": {},
   "source": [
    "## **Exercise 5-1** *Seed selection for Influence Maximization*\n",
    "\n",
    "### After getting familiar with NetworkX:"
   ]
  },
  {
   "cell_type": "markdown",
   "id": "f8a73bd8-bafb-42b3-8852-370a680e8bf5",
   "metadata": {},
   "source": [
    "### **a)** *Create an unweighted (directed or undirected) random graph $G = (V, E)$ using one of the models available here <br> https://networkx.org/documentation/stable/reference/generators.html under the section ”Random graphs.” <br> Report the number of nodes and edges of the generated graph as well as the model you choose. <br> The number of nodes should be in the range [50, 150].*"
   ]
  },
  {
   "cell_type": "code",
   "execution_count": 2,
   "id": "e5bfb433-ca22-4388-93f6-bfcf6af1143f",
   "metadata": {},
   "outputs": [
    {
     "name": "stdout",
     "output_type": "stream",
     "text": [
      "Model:\t\t  Erdős-Rényi graph (G_{n,p} random graph)\n",
      "Number of Nodes:  51\n",
      "Number of Edges:  57\n"
     ]
    }
   ],
   "source": [
    "def generate_random_graph() -> nx.Graph:\n",
    "    # p has random() multiplied by 0.05 to better observe diffusion in c, to get less than 100% active nodes more consistently\n",
    "    random_graph = nx.fast_gnp_random_graph(n=random.randint(50,150), p=(random.random() * 0.05))\n",
    "\n",
    "    random_graph.graph['model'] = \"Erdős-Rényi graph (G_{n,p} random graph)\"\n",
    "    return random_graph\n",
    "\n",
    "G = generate_random_graph()\n",
    "\n",
    "print(\"Model:\\t\\t \", G.graph[\"model\"])\n",
    "print(\"Number of Nodes: \", G.number_of_nodes())\n",
    "print(\"Number of Edges: \", G.number_of_edges())"
   ]
  },
  {
   "cell_type": "code",
   "execution_count": 3,
   "id": "0b3e4b14-0f04-4993-8454-f94072c02cb3",
   "metadata": {},
   "outputs": [
    {
     "data": {
      "image/png": "[encoded data removed]",
      "text/plain": [
       "<Figure size 640x480 with 1 Axes>"
      ]
     },
     "metadata": {},
     "output_type": "display_data"
    }
   ],
   "source": [
    "nx.draw(G)"
   ]
  },
  {
   "cell_type": "markdown",
   "id": "0688639e-7582-4f56-af69-03b4f4545047",
   "metadata": {},
   "source": [
    "### **b)** *Compute the ranking of the nodes according to node Betweenness centrality, Closeness centrality, Degree centrality, and Harmonic Centrality using the available code: <br> https://networkx.org/documentation/stable/reference/algorithms/centrality.html.*"
   ]
  },
  {
   "cell_type": "code",
   "execution_count": 3,
   "id": "70319596-c639-4fc6-9b86-bbbe1b337996",
   "metadata": {},
   "outputs": [],
   "source": [
    "betweenness_centr = nx.betweenness_centrality(G)\n",
    "closeness_centr =nx.closeness_centrality(G)\n",
    "degree_centr = nx.degree_centrality(G)\n",
    "harmonic_centr = nx.harmonic_centrality(G)\n",
    "\n",
    "rankings = {}\n",
    "\n",
    "rankings[\"betweenness\"] = np.array(sorted(betweenness_centr.items(), key=lambda node: node[1], reverse=True))\n",
    "rankings[\"closeness\"] = np.array(sorted(closeness_centr.items(), key=lambda node: node[1], reverse=True))\n",
    "rankings[\"degree\"] = np.array(sorted(degree_centr.items(), key=lambda node: node[1], reverse=True))\n",
    "rankings[\"harmonic\"] = np.array(sorted(harmonic_centr.items(), key=lambda node: node[1], reverse=True))\n",
    "\n"
   ]
  },
  {
   "cell_type": "markdown",
   "id": "336fe82a-38e4-4966-ac39-6bcc86632c56",
   "metadata": {},
   "source": [
    "### **c)** *Write the code for simulating the diffusion process. Use the graph and the initial set of seed nodes $S$ as input. <br> Use the live-edge graph approach with 100 samples, and the Independent Cascade with uniform edge weights as a diffusion model. <br> The algorithm should output $\\sigma(S)$.*"
   ]
  },
  {
   "cell_type": "code",
   "execution_count": 4,
   "id": "1e0b2ace-03a2-4ac4-8863-f109dba1367d",
   "metadata": {},
   "outputs": [],
   "source": [
    "def generate_seed_nodes(G: nx.graph, p:float=0.5) -> list:\n",
    "    seed_nodes = []\n",
    "\n",
    "    for node in G.nodes():\n",
    "        if random.random() < p:\n",
    "            seed_nodes.append(node)\n",
    "\n",
    "    return seed_nodes"
   ]
  },
  {
   "cell_type": "code",
   "execution_count": 5,
   "id": "6f349fcd-b735-458d-a09a-708815a45ffd",
   "metadata": {},
   "outputs": [],
   "source": [
    "def generate_live_edge_graph_with_uniform_edge_weights(G: nx.Graph, p: float=0.5) -> nx.Graph:\n",
    "    # initialize as nx.Graph\n",
    "    live_edge = nx.Graph()\n",
    "\n",
    "    # add nodes to live-edge graph\n",
    "    live_edge.add_nodes_from(G)\n",
    "\n",
    "    # add live edges only\n",
    "    for u, v in G.edges():\n",
    "        if random.random() < p:\n",
    "            live_edge.add_edge(u,v)\n",
    "            \n",
    "    return live_edge"
   ]
  },
  {
   "cell_type": "code",
   "execution_count": 6,
   "id": "b9900b33-aea7-4807-a915-7eef38a0feab",
   "metadata": {},
   "outputs": [],
   "source": [
    "def simulate_diffusion_with_indpendent_cascade_uniform_edge_weights(G: nx.Graph, S: list, sample_count: int=100):\n",
    "    \n",
    "    total_active_node_count = 0\n",
    "    \n",
    "    for _ in range(sample_count):\n",
    "        live_edge =  generate_live_edge_graph_with_uniform_edge_weights(G)\n",
    "\n",
    "        active_nodes = set(S)\n",
    "        remaining_nodes = list(S)\n",
    "\n",
    "        while remaining_nodes:\n",
    "            # remove working node from queue\n",
    "            node = remaining_nodes.pop(0)\n",
    "\n",
    "            # iterate over neighbors\n",
    "            for neighbor in live_edge.neighbors(node):\n",
    "                \n",
    "                # add neigbor to remaining_nodes and active_nodes if not already in activ_nodes\n",
    "                if neighbor not in active_nodes:\n",
    "                    active_nodes.add(neighbor)\n",
    "                    remaining_nodes.append(neighbor)\n",
    "                    \n",
    "        # increase total count by active nodes\n",
    "        total_active_node_count += len(active_nodes)\n",
    "\n",
    "    # calculate average active node count over samples\n",
    "    return total_active_node_count / float(sample_count)"
   ]
  },
  {
   "cell_type": "code",
   "execution_count": 7,
   "id": "eaa1db4a-fda4-4e2d-9218-60dae48379e1",
   "metadata": {},
   "outputs": [
    {
     "name": "stdout",
     "output_type": "stream",
     "text": [
      "S:    [9, 21, 50, 55, 59, 68, 69, 76, 86, 89, 98, 105, 107]\n",
      "σ(S): 16.89\n"
     ]
    }
   ],
   "source": [
    "S = generate_seed_nodes(G,0.1)\n",
    "\n",
    "diffusion = simulate_diffusion_with_indpendent_cascade_uniform_edge_weights(G,S)\n",
    "\n",
    "print(\"S:   \",S)\n",
    "print(\"σ(S):\",diffusion)"
   ]
  },
  {
   "cell_type": "markdown",
   "id": "88d81a99-effa-451f-af05-901cb3910d8d",
   "metadata": {},
   "source": [
    "### **d)** *Use the code developed in the previous point to provide a ranking of the nodes in the generated graph: <br> run the method with $S = \\{u\\}$ for each node $u$, and order the nodes for decreasing values of $\\sigma(S)$.*"
   ]
  },
  {
   "cell_type": "code",
   "execution_count": 8,
   "id": "e656932e-dd05-44f0-80d6-afe4f01de576",
   "metadata": {},
   "outputs": [],
   "source": [
    "def rank_nodes_with_diffusion_from_c(G):\n",
    "    node_dict = {}\n",
    "    \n",
    "    for u in G.nodes():\n",
    "        node_dict[u] = simulate_diffusion_with_indpendent_cascade_uniform_edge_weights(G,[u])\n",
    "\n",
    "    return np.array(sorted(node_dict.items(), key=lambda node: node[1], reverse=True))"
   ]
  },
  {
   "cell_type": "code",
   "execution_count": 9,
   "id": "8c7b18dc-5b21-497a-8fff-11eafd3f04ce",
   "metadata": {},
   "outputs": [],
   "source": [
    "rankings[\"diffusion\"] = rank_nodes_with_diffusion_from_c(G)"
   ]
  },
  {
   "cell_type": "markdown",
   "id": "6cd84403-6a3f-42dd-9b05-cc874f332f63",
   "metadata": {},
   "source": [
    "### **e)** *Compute the similarity of the rankings, i.e., based on centrality and information diffusion, using Kendall’s Tau and Spearman correlation coefficient using SciPy https://docs.scipy.org/doc/scipy-1.15.0/reference/stats.html. <br> <br> Describe your findings.*"
   ]
  },
  {
   "cell_type": "code",
   "execution_count": 10,
   "id": "0326e655-f55b-4c37-aa87-899bd3bf3816",
   "metadata": {},
   "outputs": [
    {
     "name": "stdout",
     "output_type": "stream",
     "text": [
      "Ranking comparison: closeness - betweenness\n",
      "\tKendall's Tau \t\t\t -> \tstatistic: 0.5401 p-value: 0.0000\n",
      "\tSpearman correlation coefficient -> \tstatistic: 0.5219 p-value: 0.0000\n",
      "\n",
      "Ranking comparison: degree - betweenness\n",
      "\tKendall's Tau \t\t\t -> \tstatistic: 0.5743 p-value: 0.0000\n",
      "\tSpearman correlation coefficient -> \tstatistic: 0.5670 p-value: 0.0000\n",
      "\n",
      "Ranking comparison: degree - closeness\n",
      "\tKendall's Tau \t\t\t -> \tstatistic: 0.8375 p-value: 0.0000\n",
      "\tSpearman correlation coefficient -> \tstatistic: 0.9021 p-value: 0.0000\n",
      "\n",
      "Ranking comparison: harmonic - betweenness\n",
      "\tKendall's Tau \t\t\t -> \tstatistic: 0.5749 p-value: 0.0000\n",
      "\tSpearman correlation coefficient -> \tstatistic: 0.5816 p-value: 0.0000\n",
      "\n",
      "Ranking comparison: harmonic - closeness\n",
      "\tKendall's Tau \t\t\t -> \tstatistic: 0.8944 p-value: 0.0000\n",
      "\tSpearman correlation coefficient -> \tstatistic: 0.9050 p-value: 0.0000\n",
      "\n",
      "Ranking comparison: harmonic - degree\n",
      "\tKendall's Tau \t\t\t -> \tstatistic: 0.8363 p-value: 0.0000\n",
      "\tSpearman correlation coefficient -> \tstatistic: 0.9112 p-value: 0.0000\n",
      "\n",
      "Ranking comparison: diffusion - betweenness\n",
      "\tKendall's Tau \t\t\t -> \tstatistic: 0.5578 p-value: 0.0000\n",
      "\tSpearman correlation coefficient -> \tstatistic: 0.5767 p-value: 0.0000\n",
      "\n",
      "Ranking comparison: diffusion - closeness\n",
      "\tKendall's Tau \t\t\t -> \tstatistic: 0.7800 p-value: 0.0000\n",
      "\tSpearman correlation coefficient -> \tstatistic: 0.8496 p-value: 0.0000\n",
      "\n",
      "Ranking comparison: diffusion - degree\n",
      "\tKendall's Tau \t\t\t -> \tstatistic: 0.8603 p-value: 0.0000\n",
      "\tSpearman correlation coefficient -> \tstatistic: 0.9129 p-value: 0.0000\n",
      "\n",
      "Ranking comparison: diffusion - harmonic\n",
      "\tKendall's Tau \t\t\t -> \tstatistic: 0.7769 p-value: 0.0000\n",
      "\tSpearman correlation coefficient -> \tstatistic: 0.8461 p-value: 0.0000\n",
      "\n"
     ]
    }
   ],
   "source": [
    "\n",
    "for name_i, ranking_i in rankings.items():\n",
    "    for name_j, ranking_j in rankings.items():\n",
    "        if name_i == name_j:\n",
    "            break\n",
    "        # [:,0] selects only node ranking (ignores actual rank values)\n",
    "        tau, tau_p = kendalltau(ranking_i[:,0], ranking_j[:,0])\n",
    "        spearman, spearman_p = spearmanr(ranking_i[:,0], ranking_j[:,0])\n",
    "        print(f\"Ranking comparison: {name_i} - {name_j}\")\n",
    "        print(f\"\\tKendall's Tau \\t\\t\\t -> \\tstatistic: {tau:.4f} p-value: {tau_p:.4f}\")\n",
    "        print(f\"\\tSpearman correlation coefficient -> \\tstatistic: {spearman:.4f} p-value: {spearman_p:.4f}\")\n",
    "        print()"
   ]
  },
  {
   "cell_type": "markdown",
   "id": "2529851e-a8ce-4d02-95ce-6bf22155b150",
   "metadata": {},
   "source": [
    "### **f)** *Implement the Greedy algorithm for Influence Maximization using the live-edge graph approach, reusing the code of the previous points. <br> Given a budget of $k = 5\\%|V|, 10\\%|V|, 15\\%|V|$ for the seed nodes, the algorithm should return the set $S$ of the best seed nodes. <br> <br> Summarize your results keeping track also of the running time (in seconds).*"
   ]
  },
  {
   "cell_type": "code",
   "execution_count": 11,
   "id": "ef08824a-b825-4693-bac3-1d2df7dc5339",
   "metadata": {},
   "outputs": [],
   "source": [
    "def greedy_influence_maximation(G:nx.Graph, k:int) -> np.ndarray:\n",
    "    S = []\n",
    "    \n",
    "    for _ in range(k):\n",
    "        # dictionary that stores the influence values of potential k seed candidates\n",
    "        influences = []\n",
    "        \n",
    "        for node in G.nodes():\n",
    "            if node not in S:\n",
    "                tmp = S + [node]\n",
    "                influences.append((node, simulate_diffusion_with_indpendent_cascade_uniform_edge_weights(G,tmp)))\n",
    "\n",
    "        # add max node to seeds\n",
    "        S.append(max(influences, key=lambda node: node[1])[0])\n",
    "                \n",
    "    return np.array(list(S))"
   ]
  },
  {
   "cell_type": "code",
   "execution_count": 12,
   "id": "2899192e-26bb-4ab0-afda-951af02c06d1",
   "metadata": {},
   "outputs": [
    {
     "name": "stdout",
     "output_type": "stream",
     "text": [
      "----Influence Maximation on G k = 5 (5.0%)----\n",
      "\t Best seed nodes S = [30 19 35 91 50]\n",
      "\t Running time: 15.3634 seconds\n",
      "\n",
      "----Influence Maximation on G k = 11 (10.0%)----\n",
      "\t Best seed nodes S = [30 19 35 91 50 47 75 98 39 69 32]\n",
      "\t Running time: 32.7230 seconds\n",
      "\n",
      "----Influence Maximation on G k = 16 (15.0%)----\n",
      "\t Best seed nodes S = [ 30  19  35  65  60  98  47  67  91  20  24  90   3  89 109   9]\n",
      "\t Running time: 47.8004 seconds\n",
      "\n"
     ]
    }
   ],
   "source": [
    "k_values = [0.05, 0.1, 0.15]\n",
    "runtimes_G = []\n",
    "S_G = []\n",
    "for k_val in k_values:\n",
    "    start = time.time()\n",
    "    \n",
    "    # int(G.number_of_nodes() * k_val) calculates nodes amount and ensures integer value\n",
    "    k = int(G.number_of_nodes() * k_val)\n",
    "    \n",
    "    S = greedy_influence_maximation(G, k)\n",
    "    S_G.append(S)\n",
    "    rankings[f\"diffusion influence maximation k = {k} ({100*k_val}%)\"] = np.array([[item] for item in S])\n",
    "    duration = time.time() - start\n",
    "    runtimes_G.append(duration)\n",
    "\n",
    "    print(f\"----Influence Maximation on G k = {k} ({100*k_val}%)----\")\n",
    "    print(f\"\\t Best seed nodes S = {S}\")\n",
    "    print(f\"\\t Running time: {duration:.4f} seconds\")\n",
    "    print()"
   ]
  },
  {
   "cell_type": "markdown",
   "id": "67746e70-16eb-4041-a3b9-5059114c7614",
   "metadata": {},
   "source": [
    "### **g)** *Simulate the diffusion process designed in point **c)** using as initial seeds $A$ the first top $k = 10\\%|V|$ nodes of the rankings you obtained in the previous points. <br> How big is the gap between the different values of $\\sigma(A)$. <br> <br> Report your results in a table and discuss the main findings.*"
   ]
  },
  {
   "cell_type": "code",
   "execution_count": 13,
   "id": "10707ce3-9fb8-4ca8-9f61-881129321906",
   "metadata": {},
   "outputs": [],
   "source": [
    "sigmas = {}\n",
    "for name, ranking in rankings.items():\n",
    "    k = int(G.number_of_nodes() * 0.1)\n",
    "    sigmas[name] = simulate_diffusion_with_indpendent_cascade_uniform_edge_weights(G=G,S=ranking[:k,0])\n",
    "\n",
    "sigmas_table = pd.DataFrame({\n",
    "    \"Centrality Ranking G\" : sigmas.keys(),\n",
    "    \"σ(A)\" : sigmas.values()\n",
    "})"
   ]
  },
  {
   "cell_type": "code",
   "execution_count": 14,
   "id": "d4a61247-fb80-45bf-9491-7136a155962b",
   "metadata": {},
   "outputs": [
    {
     "name": "stdout",
     "output_type": "stream",
     "text": [
      "+-----------------------------------------------+--------+\n",
      "| Centrality Ranking G                          |   σ(A) |\n",
      "+===============================================+========+\n",
      "| betweenness                                   |  14.77 |\n",
      "+-----------------------------------------------+--------+\n",
      "| closeness                                     |  12.43 |\n",
      "+-----------------------------------------------+--------+\n",
      "| degree                                        |  14.43 |\n",
      "+-----------------------------------------------+--------+\n",
      "| harmonic                                      |  11    |\n",
      "+-----------------------------------------------+--------+\n",
      "| diffusion                                     |  12.44 |\n",
      "+-----------------------------------------------+--------+\n",
      "| diffusion influence maximation k = 5 (5.0%)   |  10.85 |\n",
      "+-----------------------------------------------+--------+\n",
      "| diffusion influence maximation k = 11 (10.0%) |  18.72 |\n",
      "+-----------------------------------------------+--------+\n",
      "| diffusion influence maximation k = 16 (15.0%) |  19.15 |\n",
      "+-----------------------------------------------+--------+\n"
     ]
    }
   ],
   "source": [
    "# print table\n",
    "print(tabulate(sigmas_table.values, headers=sigmas_table.columns, tablefmt=\"grid\"))"
   ]
  },
  {
   "cell_type": "markdown",
   "id": "598acf01-ed70-4581-b65c-97c79e9049db",
   "metadata": {},
   "source": [
    "### **h)** *Modify the original graph randomly adding new edges, i.e. $20\\%$ of $|E|$, and run the Greedy algorithm for Influence Maximization as in point **f)**. <br> <br> How do the results differ from those obtained previously? <br> Is the set of seed nodes the same/similar? <br> What about the value of $\\sigma(S)$? <br> <br> Describe your findings and compare the running time with those of the original graph.*"
   ]
  },
  {
   "cell_type": "code",
   "execution_count": 15,
   "id": "fb7201cf-5b18-4939-8df4-abd568001df8",
   "metadata": {},
   "outputs": [],
   "source": [
    "# generate G_new\n",
    "\n",
    "# add 20% more edges to G_new compared to edges in G\n",
    "G_new = G.copy()\n",
    "# node list for selection in for loop\n",
    "node_list = list(G_new.nodes())\n",
    "# each iteration 1 new edge\n",
    "for _ in range(int(G_new.number_of_edges() * 0.2)):\n",
    "    u = node_list[random.randint(0, G_new.number_of_nodes() - 1)]\n",
    "    v = node_list[random.randint(0, G_new.number_of_nodes() - 1)]\n",
    "\n",
    "    # check if edge already in graph and regenerate edge if yes\n",
    "    while G_new.has_edge(u,v):\n",
    "        u = node_list[random.randint(0, G_new.number_of_nodes() - 1)]\n",
    "        v = node_list[random.randint(0, G_new.number_of_nodes() - 1)]\n",
    "\n",
    "    G_new.add_edge(u,v)"
   ]
  },
  {
   "cell_type": "code",
   "execution_count": 16,
   "id": "1c2ef3a1-fbb9-4c5a-9bf6-64a0d5e64743",
   "metadata": {},
   "outputs": [],
   "source": [
    "# non-Influence Maximation rankings for G_new\n",
    "rankings_new = {}\n",
    "\n",
    "betweenness_centr = nx.betweenness_centrality(G_new)\n",
    "closeness_centr =nx.closeness_centrality(G_new)\n",
    "degree_centr = nx.degree_centrality(G_new)\n",
    "harmonic_centr = nx.harmonic_centrality(G_new)\n",
    "\n",
    "rankings_new[\"betweenness\"] = np.array(sorted(betweenness_centr.items(), key=lambda node: node[1], reverse=True))\n",
    "rankings_new[\"closeness\"] = np.array(sorted(closeness_centr.items(), key=lambda node: node[1], reverse=True))\n",
    "rankings_new[\"degree\"] = np.array(sorted(degree_centr.items(), key=lambda node: node[1], reverse=True))\n",
    "rankings_new[\"harmonic\"] = np.array(sorted(harmonic_centr.items(), key=lambda node: node[1], reverse=True))\n",
    "rankings_new[\"diffusion\"] = rank_nodes_with_diffusion_from_c(G_new)"
   ]
  },
  {
   "cell_type": "code",
   "execution_count": 17,
   "id": "ddae4403-fb0f-46ee-bc6d-494923148631",
   "metadata": {},
   "outputs": [
    {
     "name": "stdout",
     "output_type": "stream",
     "text": [
      "----Influence Maximation on G_new k = 5 (5.0%)----\n",
      "\t Best seed nodes S = [107  30  35  78  60]\n",
      "\t Running time: 15.3223 seconds\n",
      "\n",
      "----Influence Maximation on G_new k = 11 (10.0%)----\n",
      "\t Best seed nodes S = [ 30 107  35  75  39  78  92  65  71  98  20]\n",
      "\t Running time: 34.1026 seconds\n",
      "\n",
      "----Influence Maximation on G_new k = 16 (15.0%)----\n",
      "\t Best seed nodes S = [19 30 35 65 91 71 39 98 67 73 69  0  8 64 68 34]\n",
      "\t Running time: 48.0564 seconds\n",
      "\n"
     ]
    }
   ],
   "source": [
    "# Influence Maximation rankings for G_new\n",
    "runtimes_G_new = []\n",
    "S_G_new = []\n",
    "for k_val in k_values:\n",
    "    start = time.time()\n",
    "    \n",
    "    # int(G.number_of_nodes() * k_val) calculates nodes amount and ensures integer value\n",
    "    k = int(G_new.number_of_nodes() * k_val)\n",
    "    \n",
    "    S = greedy_influence_maximation(G_new, k)\n",
    "    S_G_new.append(S)\n",
    "    rankings_new[f\"diffusion influence maximation k = {k} ({100*k_val}%)\"] = np.array([[item] for item in S])\n",
    "    duration = time.time() - start\n",
    "    runtimes_G_new.append(duration)\n",
    "\n",
    "    print(f\"----Influence Maximation on G_new k = {k} ({100*k_val}%)----\")\n",
    "    print(f\"\\t Best seed nodes S = {S}\")\n",
    "    print(f\"\\t Running time: {duration:.4f} seconds\")\n",
    "    print()"
   ]
  },
  {
   "cell_type": "code",
   "execution_count": 18,
   "id": "e80acc45-7c5e-4391-ba19-3cd7e26c6947",
   "metadata": {},
   "outputs": [
    {
     "name": "stdout",
     "output_type": "stream",
     "text": [
      "Ranking comparison (G vs. G_new): betweenness\n",
      "\tKendall's Tau \t\t\t -> \tstatistic: 9.1150e-01 p-value: 1.8353e-46\n",
      "\tSpearman correlation coefficient -> \tstatistic: 9.1061e-01 p-value: 2.0929e-44\n",
      "\n",
      "Ranking comparison (G vs. G_new): closeness\n",
      "\tKendall's Tau \t\t\t -> \tstatistic: 7.6802e-01 p-value: 1.7347e-33\n",
      "\tSpearman correlation coefficient -> \tstatistic: 7.9244e-01 p-value: 1.3945e-25\n",
      "\n",
      "Ranking comparison (G vs. G_new): degree\n",
      "\tKendall's Tau \t\t\t -> \tstatistic: 7.9077e-01 p-value: 2.1265e-35\n",
      "\tSpearman correlation coefficient -> \tstatistic: 7.9873e-01 p-value: 3.0480e-26\n",
      "\n",
      "Ranking comparison (G vs. G_new): harmonic\n",
      "\tKendall's Tau \t\t\t -> \tstatistic: 7.7181e-01 p-value: 8.4035e-34\n",
      "\tSpearman correlation coefficient -> \tstatistic: 7.9954e-01 p-value: 2.4979e-26\n",
      "\n",
      "Ranking comparison (G vs. G_new): diffusion\n",
      "\tKendall's Tau \t\t\t -> \tstatistic: 7.3388e-01 p-value: 1.0076e-30\n",
      "\tSpearman correlation coefficient -> \tstatistic: 7.8208e-01 p-value: 1.5298e-24\n",
      "\n",
      "Ranking comparison (G vs. G_new): diffusion influence maximation k = 5 (5.0%)\n",
      "\tKendall's Tau \t\t\t -> \tstatistic: 4.0000e-01 p-value: 4.8333e-01\n",
      "\tSpearman correlation coefficient -> \tstatistic: 4.0000e-01 p-value: 5.0463e-01\n",
      "\n",
      "Ranking comparison (G vs. G_new): diffusion influence maximation k = 11 (10.0%)\n",
      "\tKendall's Tau \t\t\t -> \tstatistic: 2.0000e-01 p-value: 4.4538e-01\n",
      "\tSpearman correlation coefficient -> \tstatistic: 2.3636e-01 p-value: 4.8409e-01\n",
      "\n",
      "Ranking comparison (G vs. G_new): diffusion influence maximation k = 16 (15.0%)\n",
      "\tKendall's Tau \t\t\t -> \tstatistic: 3.0000e-01 p-value: 1.1605e-01\n",
      "\tSpearman correlation coefficient -> \tstatistic: 3.5588e-01 p-value: 1.7610e-01\n",
      "\n"
     ]
    }
   ],
   "source": [
    "# ranking comparisons between G and G_new\n",
    "for (name, ranking_G), ranking_G_new in zip(rankings.items(), rankings_new.values()):\n",
    "        tau, tau_p = kendalltau(ranking_G[:,0], ranking_G_new[:,0])\n",
    "        spearman, spearman_p = spearmanr(ranking_G[:,0], ranking_G_new[:,0])\n",
    "        print(f\"Ranking comparison (G vs. G_new): {name}\")\n",
    "        print(f\"\\tKendall's Tau \\t\\t\\t -> \\tstatistic: {tau:.4e} p-value: {tau_p:.4e}\")\n",
    "        print(f\"\\tSpearman correlation coefficient -> \\tstatistic: {spearman:.4e} p-value: {spearman_p:.4e}\")\n",
    "        print()\n"
   ]
  },
  {
   "cell_type": "code",
   "execution_count": 19,
   "id": "53db39eb-fef4-4f04-9a95-868d2f96ccbc",
   "metadata": {},
   "outputs": [
    {
     "name": "stdout",
     "output_type": "stream",
     "text": [
      "----Compare S k = 0.05 (5.0%)----\n",
      "\n",
      "\tG\n",
      "\t\tS: \t\t\t\t[30 19 35 91 50]\n",
      "\t\tRuntime: \t\t\t15.3634\n",
      "\n",
      "\tG_new\n",
      "\t\tS: \t\t\t\t[107  30  35  78  60]\n",
      "\t\tRuntime: \t\t\t15.3223\n",
      "\n",
      "\tPercentage of Nodes in G and G_new: \t40.00%\n",
      "\n",
      "\n",
      "\n",
      "----Compare S k = 0.1 (10.0%)----\n",
      "\n",
      "\tG\n",
      "\t\tS: \t\t\t\t[30 19 35 91 50 47 75 98 39 69 32]\n",
      "\t\tRuntime: \t\t\t32.7230\n",
      "\n",
      "\tG_new\n",
      "\t\tS: \t\t\t\t[ 30 107  35  75  39  78  92  65  71  98  20]\n",
      "\t\tRuntime: \t\t\t34.1026\n",
      "\n",
      "\tPercentage of Nodes in G and G_new: \t45.45%\n",
      "\n",
      "\n",
      "\n",
      "----Compare S k = 0.15 (15.0%)----\n",
      "\n",
      "\tG\n",
      "\t\tS: \t\t\t\t[ 30  19  35  65  60  98  47  67  91  20  24  90   3  89 109   9]\n",
      "\t\tRuntime: \t\t\t47.8004\n",
      "\n",
      "\tG_new\n",
      "\t\tS: \t\t\t\t[19 30 35 65 91 71 39 98 67 73 69  0  8 64 68 34]\n",
      "\t\tRuntime: \t\t\t48.0564\n",
      "\n",
      "\tPercentage of Nodes in G and G_new: \t43.75%\n",
      "\n",
      "\n",
      "\n"
     ]
    }
   ],
   "source": [
    "# compare S from f) to G_new\n",
    "\n",
    "for k_val, S, S_new, duration, duration_new in zip (k_values, S_G, S_G_new, runtimes_G, runtimes_G_new):\n",
    "    print(f\"----Compare S k = {k_val} ({k_val*100}%)----\")\n",
    "    print()\n",
    "    print(\"\\tG\")\n",
    "    print(f\"\\t\\tS: \\t\\t\\t\\t{S}\")\n",
    "    print(f\"\\t\\tRuntime: \\t\\t\\t{duration:.4f}\")\n",
    "    print()\n",
    "    print(\"\\tG_new\")\n",
    "    print(f\"\\t\\tS: \\t\\t\\t\\t{S_new}\")\n",
    "    print(f\"\\t\\tRuntime: \\t\\t\\t{duration_new:.4f}\")\n",
    "    print()\n",
    "    print(f\"\\tPercentage of Nodes in G and G_new: \\t{(np.sum(np.isin(S, S_new))/len(S))*100:.2f}%\")\n",
    "    print()\n",
    "    print()\n",
    "    print()"
   ]
  },
  {
   "cell_type": "code",
   "execution_count": 20,
   "id": "1a100613-8987-4418-b93b-b646c9499210",
   "metadata": {},
   "outputs": [],
   "source": [
    "# sigmas calculation and table creation for G_new\n",
    "sigmas_new = {}\n",
    "for name, ranking in rankings_new.items():\n",
    "    k = int(G_new.number_of_nodes() * 0.1)\n",
    "    sigmas_new[name] = simulate_diffusion_with_indpendent_cascade_uniform_edge_weights(G=G,S=ranking[:k,0])\n",
    "\n",
    "sigmas_table_new = pd.DataFrame({\n",
    "    \"Centrality Ranking G_new\" : sigmas_new.keys(),\n",
    "    \"σ(A)\" : sigmas_new.values()\n",
    "})"
   ]
  },
  {
   "cell_type": "code",
   "execution_count": 21,
   "id": "9142fe03-58c2-4a73-8a2d-7c7a58a4267e",
   "metadata": {},
   "outputs": [
    {
     "name": "stdout",
     "output_type": "stream",
     "text": [
      "+-----------------------------------------------+--------+-----------------------------------------------+--------+\n",
      "| Centrality Ranking G                          |   σ(A) | Centrality Ranking G_new                      |   σ(A) |\n",
      "+===============================================+========+===============================================+========+\n",
      "| betweenness                                   |  14.77 | betweenness                                   |  14.58 |\n",
      "+-----------------------------------------------+--------+-----------------------------------------------+--------+\n",
      "| closeness                                     |  12.43 | closeness                                     |  12.91 |\n",
      "+-----------------------------------------------+--------+-----------------------------------------------+--------+\n",
      "| degree                                        |  14.43 | degree                                        |  13.41 |\n",
      "+-----------------------------------------------+--------+-----------------------------------------------+--------+\n",
      "| harmonic                                      |  11    | harmonic                                      |  11.58 |\n",
      "+-----------------------------------------------+--------+-----------------------------------------------+--------+\n",
      "| diffusion                                     |  12.44 | diffusion                                     |  11    |\n",
      "+-----------------------------------------------+--------+-----------------------------------------------+--------+\n",
      "| diffusion influence maximation k = 5 (5.0%)   |  10.85 | diffusion influence maximation k = 5 (5.0%)   |  10.12 |\n",
      "+-----------------------------------------------+--------+-----------------------------------------------+--------+\n",
      "| diffusion influence maximation k = 11 (10.0%) |  18.72 | diffusion influence maximation k = 11 (10.0%) |  18.63 |\n",
      "+-----------------------------------------------+--------+-----------------------------------------------+--------+\n",
      "| diffusion influence maximation k = 16 (15.0%) |  19.15 | diffusion influence maximation k = 16 (15.0%) |  19.21 |\n",
      "+-----------------------------------------------+--------+-----------------------------------------------+--------+\n"
     ]
    }
   ],
   "source": [
    "# print tables\n",
    "joint_table = pd.concat([sigmas_table, sigmas_table_new],axis=1) \n",
    "print(tabulate(joint_table.values, headers=joint_table.columns, tablefmt=\"grid\"))"
   ]
  },
  {
   "cell_type": "markdown",
   "id": "89666d1b-2709-4c1c-8b78-9c244bf09279",
   "metadata": {},
   "source": [
    "The rankings of G and G_new were somewhat similar, but still differed greatly, even though the only thing that happended was the addition of 20\\% more edges(compared to the original graph). \n",
    "\n",
    "The seed nodes from Influence Maximation were almost entirely different (even when ignoring the ordering) and the runtime of the same k in G was much shorter, compared to G_new.\n",
    "\n",
    "However the $\\sigma(A)$ of the first 10\\% of nodes in the ranking remained almost unchanged compared between G and G_new."
   ]
  }
 ],
 "metadata": {
  "kernelspec": {
   "display_name": "Python 3 (ipykernel)",
   "language": "python",
   "name": "python3"
  },
  "language_info": {
   "codemirror_mode": {
    "name": "ipython",
    "version": 3
   },
   "file_extension": ".py",
   "mimetype": "text/x-python",
   "name": "python",
   "nbconvert_exporter": "python",
   "pygments_lexer": "ipython3",
   "version": "3.12.7"
  }
 },
 "nbformat": 4,
 "nbformat_minor": 5
}
