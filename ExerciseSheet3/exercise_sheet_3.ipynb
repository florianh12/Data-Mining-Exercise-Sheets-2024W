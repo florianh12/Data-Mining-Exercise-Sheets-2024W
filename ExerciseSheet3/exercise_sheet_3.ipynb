{
 "cells": [
  {
   "cell_type": "markdown",
   "id": "15178aa8-ddd4-4b94-8d76-ef300389efa0",
   "metadata": {},
   "source": [
    "# **Exercise Sheet 3: Causality**"
   ]
  },
  {
   "cell_type": "code",
   "execution_count": 1,
   "id": "45615cbe-0a46-41b4-9f5c-6d80ad4c307e",
   "metadata": {},
   "outputs": [],
   "source": [
    "from scipy import stats\n",
    "import numpy as np"
   ]
  },
  {
   "cell_type": "markdown",
   "id": "6a94b35d-89db-4be4-b4e0-da4edcfb0676",
   "metadata": {},
   "source": [
    "## **Exercise 3-1** *Granger causal test*\n",
    "Consider the following dataset from the R package “lmtest” to answer the age old question of what came first,\n",
    "“the chicken or the egg”. The data was presented by Walter Thurman and Mark Fisher in the American Journal\n",
    "of Agricultural Economics, May 1988, titled “Chickens, Eggs, and Causality, or Which Came First?”\n",
    "\n",
    "year | chicken (Y) | egg (X)\n",
    "---- | ----------- | -------\n",
    "1930 | 468491      | 3581\n",
    "1931 | 449743      | 3532\n",
    "1932 | 436815      | 3327\n",
    "1933 | 444523      | 3255\n",
    "1934 | 433937      | 3156\n",
    "1935 | 389958      | 3081\n",
    "<p style=\"text-align:center;\">Tabelle 1: Population of chickens and eggs in U.S. egg production.</p>\n",
    "In this example, we will use only 6 entries of our data (1930 - 1935) and a single lag of 1."
   ]
  },
  {
   "cell_type": "markdown",
   "id": "a40b26f3-1787-4500-a630-b3bccf5773b9",
   "metadata": {},
   "source": [
    "### **a)** *Auto-regression for X and Y*\n",
    "The auto regression problem can be written in the matrix format as:\n",
    "$$\\begin{pmatrix} \n",
    "    Y (2) \\\\\n",
    "    . \\\\\n",
    "    . \\\\\n",
    "    . \\\\\n",
    "    Y (n)\n",
    "\\end{pmatrix} = \\beta_0 \\begin{pmatrix} \n",
    "    1 \\\\\n",
    "    . \\\\\n",
    "    . \\\\\n",
    "    . \\\\\n",
    "    1\n",
    "\\end{pmatrix} + \\beta_1 \\begin{pmatrix} \n",
    "    Y (1) \\\\\n",
    "    . \\\\\n",
    "    . \\\\\n",
    "    . \\\\\n",
    "    Y (n-1)\n",
    "\\end{pmatrix} + \\beta_2 \\begin{pmatrix} \n",
    "    X (1) \\\\\n",
    "    . \\\\\n",
    "    . \\\\\n",
    "    . \\\\\n",
    "    X (n-1)\n",
    "\\end{pmatrix}$$\n",
    "\n",
    "The design matrix X for this case is:\n",
    "\n",
    "$$\\begin{pmatrix} \n",
    "    1 & Y (1) & X (1)\\\\\n",
    "    . & . & . \\\\\n",
    "    . & . & . \\\\\n",
    "    . & . & . \\\\\n",
    "    1 & Y (n-1) & X (n-1)\n",
    "\\end{pmatrix}$$\n",
    "\n",
    "Calculate the unknown coefficients $\\beta = (\\beta_0, \\beta_1, \\beta_2)$, by using the derived formula, discussed in our\n",
    "lecture:\n",
    "\n",
    "$$\\hat{\\beta} =(X^{'}X)^+X^{'}Y$$\n",
    "\n",
    "where $X^{'}$\n",
    "is the transpose of the matrix $X$ and $X^+$ is the generalised inverse. Calculate $\\lVert e \\rVert ^2_2$\n",
    ", the sum of\n",
    "squared residuals for the first regression which is our $RSS_1$."
   ]
  },
  {
   "cell_type": "code",
   "execution_count": 2,
   "id": "ded21563-63b6-4b79-9e42-5583662f81bd",
   "metadata": {},
   "outputs": [],
   "source": [
    "def calc_rss(Y,Y_pred):\n",
    "    return np.sum(np.square(Y[1:] - Y_pred))\n",
    "def calc_beta_hat(X,Y):\n",
    "    return np.linalg.pinv(X[:-1,:].T @ X[:-1]) @ X[:-1,:].T @ Y[1:]\n",
    "def pred_y(X,beta_hat):\n",
    "    return X[:-1,:] @ beta_hat"
   ]
  },
  {
   "cell_type": "code",
   "execution_count": 3,
   "id": "98879e0c-00a2-4484-9319-cd9f391e9584",
   "metadata": {},
   "outputs": [],
   "source": [
    "X = np.array([\n",
    "    [1,468491,3581],\n",
    "    [1,449743,3532],\n",
    "    [1,436815,3327],\n",
    "    [1,444523,3255],\n",
    "    [1,433937,3156],\n",
    "    [1,389958,3081]\n",
    "    ])\n",
    "X_t = np.copy(X.T)\n",
    "X_plus = np.linalg.pinv(X)\n",
    "Y = np.copy(X[:,1])"
   ]
  },
  {
   "cell_type": "code",
   "execution_count": 4,
   "id": "7724e71e-e775-4a1f-879a-e4cfc23486fa",
   "metadata": {},
   "outputs": [
    {
     "data": {
      "text/plain": [
       "array([[     1, 468491,   3581],\n",
       "       [     1, 449743,   3532],\n",
       "       [     1, 436815,   3327],\n",
       "       [     1, 444523,   3255],\n",
       "       [     1, 433937,   3156],\n",
       "       [     1, 389958,   3081]])"
      ]
     },
     "execution_count": 4,
     "metadata": {},
     "output_type": "execute_result"
    }
   ],
   "source": [
    "X"
   ]
  },
  {
   "cell_type": "code",
   "execution_count": 5,
   "id": "14812f4d-5411-4886-aafa-62747a96d387",
   "metadata": {},
   "outputs": [],
   "source": [
    "beta_hat = calc_beta_hat(X,Y)"
   ]
  },
  {
   "cell_type": "code",
   "execution_count": 6,
   "id": "3481d035-ace8-4c08-ad37-d3ea9506c28e",
   "metadata": {},
   "outputs": [],
   "source": [
    "Y_pred_1 = pred_y(X,beta_hat)"
   ]
  },
  {
   "cell_type": "code",
   "execution_count": 7,
   "id": "7a629ede-3e34-4079-b2bb-0ad0fac4ca30",
   "metadata": {},
   "outputs": [],
   "source": [
    "RSS_1 = calc_rss(Y,Y_pred_1)"
   ]
  },
  {
   "cell_type": "code",
   "execution_count": 8,
   "id": "49aee1d6-7425-480c-972f-5548745f7e8c",
   "metadata": {},
   "outputs": [
    {
     "data": {
      "text/plain": [
       "array([ 1.20111918e+05, -6.90431823e-02,  1.01396058e+02])"
      ]
     },
     "execution_count": 8,
     "metadata": {},
     "output_type": "execute_result"
    }
   ],
   "source": [
    "beta_hat"
   ]
  },
  {
   "cell_type": "code",
   "execution_count": 9,
   "id": "439112c5-ad1e-48d2-a169-a639e35d2086",
   "metadata": {},
   "outputs": [
    {
     "data": {
      "text/plain": [
       "np.float64(1023104023.6108718)"
      ]
     },
     "execution_count": 9,
     "metadata": {},
     "output_type": "execute_result"
    }
   ],
   "source": [
    "RSS_1"
   ]
  },
  {
   "cell_type": "markdown",
   "id": "92038196-a19e-407e-a7dc-c6e2c5c5b2ad",
   "metadata": {},
   "source": [
    "### **b)** *Auto-regression without Y* \n",
    "Repeat the steps from the previous task to calculate $RSS_2$ (i. e. the sum of squared residuals for the\n",
    "second regression), with the 2nd design matrix, which does not contain the egg feature, corresponding to\n",
    "the 2nd Granger equation."
   ]
  },
  {
   "cell_type": "code",
   "execution_count": 10,
   "id": "2e1d1a4e-e328-4882-ae00-3e835c3ed6e6",
   "metadata": {},
   "outputs": [],
   "source": [
    "X2 = np.delete(X,2,axis=1)  \n",
    "X2_t = np.copy(X2.T)\n",
    "X2_plus = np.linalg.pinv(X2)"
   ]
  },
  {
   "cell_type": "code",
   "execution_count": 11,
   "id": "3ed6baea-3ab9-4cdc-8002-a24cf9bb7fcf",
   "metadata": {},
   "outputs": [
    {
     "data": {
      "text/plain": [
       "array([[     1, 468491],\n",
       "       [     1, 449743],\n",
       "       [     1, 436815],\n",
       "       [     1, 444523],\n",
       "       [     1, 433937],\n",
       "       [     1, 389958]])"
      ]
     },
     "execution_count": 11,
     "metadata": {},
     "output_type": "execute_result"
    }
   ],
   "source": [
    "X2"
   ]
  },
  {
   "cell_type": "code",
   "execution_count": 12,
   "id": "761e3ff8-6a3d-47a4-9284-bd275ed5b86f",
   "metadata": {},
   "outputs": [],
   "source": [
    "beta_hat_2 = calc_beta_hat(X=X2,Y=Y)"
   ]
  },
  {
   "cell_type": "code",
   "execution_count": 13,
   "id": "bb725ae7-a1bc-4cb2-89dd-fe933afe4891",
   "metadata": {},
   "outputs": [],
   "source": [
    "Y_pred_2 = pred_y(X=X2,beta_hat=beta_hat_2)"
   ]
  },
  {
   "cell_type": "code",
   "execution_count": 14,
   "id": "43333930-6e66-4438-b44b-654101a2726e",
   "metadata": {},
   "outputs": [],
   "source": [
    "RSS_2 = calc_rss(Y=Y,Y_pred=Y_pred_2)"
   ]
  },
  {
   "cell_type": "code",
   "execution_count": 15,
   "id": "8ba1ff45-3b2f-4334-bcee-0c28c46a2333",
   "metadata": {},
   "outputs": [
    {
     "data": {
      "text/plain": [
       "array([-5.17190454e+04,  1.08061854e+00])"
      ]
     },
     "execution_count": 15,
     "metadata": {},
     "output_type": "execute_result"
    }
   ],
   "source": [
    "beta_hat_2"
   ]
  },
  {
   "cell_type": "code",
   "execution_count": 16,
   "id": "a0295c3d-1e84-4ae5-af39-b9595f5146fb",
   "metadata": {},
   "outputs": [
    {
     "data": {
      "text/plain": [
       "np.float64(1385892406.5564852)"
      ]
     },
     "execution_count": 16,
     "metadata": {},
     "output_type": "execute_result"
    }
   ],
   "source": [
    "RSS_2"
   ]
  },
  {
   "cell_type": "markdown",
   "id": "f386de4b-c786-4345-8ced-586251b70fd1",
   "metadata": {},
   "source": [
    "### **c)** *Apply statistical test* \n",
    "Apply the Granger Sargent test with $\\alpha = 0.05$, to the computed $RSS_1$ and $RSS_2$ values, to test the\n",
    "Granger causal direction from eggs to chicken. We use a single lag of 1, i.e. $d = 1$. Interpret the result."
   ]
  },
  {
   "cell_type": "code",
   "execution_count": 17,
   "id": "fb60ccb5-b4f7-49f8-9263-0c11c7ea6615",
   "metadata": {},
   "outputs": [],
   "source": [
    "GS = ((RSS_2 - RSS_1)/1)/(RSS_2/(6 - 2*1))"
   ]
  },
  {
   "cell_type": "code",
   "execution_count": 36,
   "id": "0d8d56a3-7eac-4ee5-9473-3dd19083a599",
   "metadata": {},
   "outputs": [
    {
     "data": {
      "text/plain": [
       "np.float64(1.0470896044434808)"
      ]
     },
     "execution_count": 36,
     "metadata": {},
     "output_type": "execute_result"
    }
   ],
   "source": [
    "GS"
   ]
  },
  {
   "cell_type": "code",
   "execution_count": 18,
   "id": "ddb0c88c-0642-4431-94ff-d88415302fef",
   "metadata": {},
   "outputs": [],
   "source": [
    "alpha = 0.05"
   ]
  },
  {
   "cell_type": "code",
   "execution_count": 19,
   "id": "d2bab5cd-6c8f-43cf-bfcc-f86f9cbdfcd0",
   "metadata": {},
   "outputs": [],
   "source": [
    "p_value = stats.f.sf(GS,dfn=1,dfd=(6 - 2*1))"
   ]
  },
  {
   "cell_type": "code",
   "execution_count": 37,
   "id": "ef1c8a64-2134-40e7-b247-c7cd909ae6cd",
   "metadata": {},
   "outputs": [
    {
     "data": {
      "text/plain": [
       "np.float64(0.36402477901824704)"
      ]
     },
     "execution_count": 37,
     "metadata": {},
     "output_type": "execute_result"
    }
   ],
   "source": [
    "p_value"
   ]
  },
  {
   "cell_type": "code",
   "execution_count": 20,
   "id": "1dd1b2e7-4cd8-4778-ba8a-9c3a535f7724",
   "metadata": {},
   "outputs": [
    {
     "name": "stdout",
     "output_type": "stream",
     "text": [
      "Null hypothesis not rejected: The egg does not have to cause chickens to be born\n"
     ]
    }
   ],
   "source": [
    "if p_value <= alpha:\n",
    "    print(\"Null hypothesis rejected: The egg caused chickens to be born\")\n",
    "else:\n",
    "    print(\"Null hypothesis not rejected: The egg does not have to cause chickens to be born\")"
   ]
  },
  {
   "cell_type": "markdown",
   "id": "ffb58fd2-3250-4367-9aa4-001403506c76",
   "metadata": {},
   "source": [
    "### **d)** *Causal test for direction from chicken to eggs*\n",
    "Do exercises a - c analogously for the equations:\n",
    "$$\\begin{pmatrix} \n",
    "    X (2) \\\\\n",
    "    . \\\\\n",
    "    . \\\\\n",
    "    . \\\\\n",
    "    X (n)\n",
    "\\end{pmatrix} = \\beta_0 \\begin{pmatrix} \n",
    "    1 \\\\\n",
    "    . \\\\\n",
    "    . \\\\\n",
    "    . \\\\\n",
    "    1\n",
    "\\end{pmatrix} + \\beta_1 \\begin{pmatrix} \n",
    "    X (1) \\\\\n",
    "    . \\\\\n",
    "    . \\\\\n",
    "    . \\\\\n",
    "    X (n-1)\n",
    "\\end{pmatrix} + \\beta_2 \\begin{pmatrix} \n",
    "    Y (1) \\\\\n",
    "    . \\\\\n",
    "    . \\\\\n",
    "    . \\\\\n",
    "    Y (n-1)\n",
    "\\end{pmatrix}$$\n",
    "And interpret the results, what they mean for the answer ”what was first, eggs or chicken?”."
   ]
  },
  {
   "cell_type": "code",
   "execution_count": 21,
   "id": "b4c397cc-8860-4105-bf57-e200d415a9ee",
   "metadata": {},
   "outputs": [],
   "source": [
    "X_hat = np.array([\n",
    "    [1,3581,468491],\n",
    "    [1,3532,449743],\n",
    "    [1,3327,436815],\n",
    "    [1,3255,444523],\n",
    "    [1,3156,433937],\n",
    "    [1,3081,389958]\n",
    "    ])"
   ]
  },
  {
   "cell_type": "code",
   "execution_count": 22,
   "id": "87bddda6-db2b-4ee7-8de7-08f711eaa246",
   "metadata": {},
   "outputs": [],
   "source": [
    "beta_hat_3 = calc_beta_hat(X=X_hat,Y=X_hat[:,1])"
   ]
  },
  {
   "cell_type": "code",
   "execution_count": 23,
   "id": "5e23a0e6-4d71-4474-af9a-5227b541357f",
   "metadata": {},
   "outputs": [],
   "source": [
    "X_pred_1 = pred_y(X=X_hat,beta_hat=beta_hat_3)"
   ]
  },
  {
   "cell_type": "code",
   "execution_count": 24,
   "id": "e0fbd824-0692-430d-9f57-ccc8b9f5cd89",
   "metadata": {},
   "outputs": [],
   "source": [
    "RSS_1_hat= calc_rss(Y=X_hat[:,1],Y_pred=X_pred_1)"
   ]
  },
  {
   "cell_type": "code",
   "execution_count": 25,
   "id": "e34b4890-8c41-4218-b66d-1bb89681162d",
   "metadata": {},
   "outputs": [
    {
     "data": {
      "text/plain": [
       "array([-9.41423511e+02,  5.71643330e-01,  5.11542859e-03])"
      ]
     },
     "execution_count": 25,
     "metadata": {},
     "output_type": "execute_result"
    }
   ],
   "source": [
    "beta_hat_3"
   ]
  },
  {
   "cell_type": "code",
   "execution_count": 26,
   "id": "9949e21f-a945-48d9-b53c-091c5070da20",
   "metadata": {},
   "outputs": [
    {
     "data": {
      "text/plain": [
       "np.float64(8511.149774128166)"
      ]
     },
     "execution_count": 26,
     "metadata": {},
     "output_type": "execute_result"
    }
   ],
   "source": [
    "RSS_1_hat"
   ]
  },
  {
   "cell_type": "code",
   "execution_count": 27,
   "id": "ac891453-bd3a-42c1-b526-f6b239792b67",
   "metadata": {},
   "outputs": [],
   "source": [
    "X2_hat = np.delete(X_hat,2,axis=1)  "
   ]
  },
  {
   "cell_type": "code",
   "execution_count": 28,
   "id": "6cc90803-22b4-43d5-becd-46ab34fe8b57",
   "metadata": {},
   "outputs": [],
   "source": [
    "beta_hat_4 = calc_beta_hat(X=X2_hat,Y=X2_hat[:,1])"
   ]
  },
  {
   "cell_type": "code",
   "execution_count": 29,
   "id": "0872fb5e-e05e-4444-bf18-087502738132",
   "metadata": {},
   "outputs": [],
   "source": [
    "X_pred_2 = pred_y(X=X2_hat,beta_hat=beta_hat_4)"
   ]
  },
  {
   "cell_type": "code",
   "execution_count": 30,
   "id": "88230086-8acd-4b3e-bd1e-63f2fd475e76",
   "metadata": {},
   "outputs": [],
   "source": [
    "RSS_2_hat= calc_rss(Y=X_hat[:,1], Y_pred=X_pred_2)"
   ]
  },
  {
   "cell_type": "code",
   "execution_count": 31,
   "id": "205535ee-fd6a-445a-b07d-c38fa9daa59f",
   "metadata": {},
   "outputs": [
    {
     "data": {
      "text/plain": [
       "array([230.73506161,   0.90186486])"
      ]
     },
     "execution_count": 31,
     "metadata": {},
     "output_type": "execute_result"
    }
   ],
   "source": [
    "beta_hat_4"
   ]
  },
  {
   "cell_type": "code",
   "execution_count": 32,
   "id": "43509532-e082-4a6a-ac48-886b82151549",
   "metadata": {},
   "outputs": [
    {
     "data": {
      "text/plain": [
       "np.float64(13768.29021504951)"
      ]
     },
     "execution_count": 32,
     "metadata": {},
     "output_type": "execute_result"
    }
   ],
   "source": [
    "RSS_2_hat"
   ]
  },
  {
   "cell_type": "code",
   "execution_count": 33,
   "id": "1f01426a-46de-402f-a6c7-6c85ce9c23c7",
   "metadata": {},
   "outputs": [],
   "source": [
    "GS_hat = ((RSS_2_hat - RSS_1_hat)/1)/(RSS_2_hat/(6 - 2*1))"
   ]
  },
  {
   "cell_type": "code",
   "execution_count": 38,
   "id": "0f14dd50-a86e-43d9-a53f-7059c3006916",
   "metadata": {},
   "outputs": [
    {
     "data": {
      "text/plain": [
       "np.float64(1.5273183115140896)"
      ]
     },
     "execution_count": 38,
     "metadata": {},
     "output_type": "execute_result"
    }
   ],
   "source": [
    "GS_hat"
   ]
  },
  {
   "cell_type": "code",
   "execution_count": 34,
   "id": "bad1b1e2-4223-4a58-bb35-f48e85ba5257",
   "metadata": {},
   "outputs": [],
   "source": [
    "p_value_hat = stats.f.sf(GS_hat,dfn=1,dfd=(6 - 2*1))"
   ]
  },
  {
   "cell_type": "code",
   "execution_count": 39,
   "id": "bf5a194f-054c-4fc7-aaf9-12a60bef28a7",
   "metadata": {},
   "outputs": [
    {
     "data": {
      "text/plain": [
       "np.float64(0.2841313442120876)"
      ]
     },
     "execution_count": 39,
     "metadata": {},
     "output_type": "execute_result"
    }
   ],
   "source": [
    "p_value_hat"
   ]
  },
  {
   "cell_type": "code",
   "execution_count": 35,
   "id": "a8378f1c-f3b4-4c32-b370-28c6d37fcb18",
   "metadata": {},
   "outputs": [
    {
     "name": "stdout",
     "output_type": "stream",
     "text": [
      "Null hypothesis not rejected: The chicken does not have to cause eggs to be born\n"
     ]
    }
   ],
   "source": [
    "if p_value_hat <= alpha:\n",
    "    print(\"Null hypothesis rejected: The chicken caused eggs to be born\")\n",
    "else:\n",
    "    print(\"Null hypothesis not rejected: The chicken does not have to cause eggs to be born\")"
   ]
  },
  {
   "cell_type": "markdown",
   "id": "228de492-902d-4ec3-937d-0c068ade1908",
   "metadata": {},
   "source": [
    "## **Exercise 3-2** *Multivariate Granger model*"
   ]
  },
  {
   "cell_type": "markdown",
   "id": "f8a73bd8-bafb-42b3-8852-370a680e8bf5",
   "metadata": {},
   "source": [
    "### **a)** *Consider graphical Granger model and causal inference by ordinary least squares with adaptive lasso penalty and regularization parameter $\\lambda_n = n^{\\frac{3}{2}}$. Is the problem solved by this model consistent? Explain your answer in detail.*"
   ]
  },
  {
   "cell_type": "markdown",
   "id": "13b8b3f6-a531-4310-ba0e-32a2fa6146ce",
   "metadata": {},
   "source": [
    "No, the problem solved is not consistent, since one of the oracle properties for that to be the case has to be: $\\frac{\\lambda_n}{\\sqrt{n}}\\rightarrow 0$\n",
    "\n",
    "But: $\\frac{n^{\\frac{3}{2}}}{\\sqrt{n}} = \\frac{\\sqrt{n^3}}{\\sqrt{n}} = \\sqrt{\\frac{n^3}{n}} = \\sqrt{n^2} \\neq 0$\n",
    "\n",
    "Therefore the problem solved is not consistent."
   ]
  },
  {
   "cell_type": "markdown",
   "id": "0688639e-7582-4f56-af69-03b4f4545047",
   "metadata": {},
   "source": [
    "### **b)** *What is the algorithm HMMLGA for and what are its hyperparameters?*"
   ]
  },
  {
   "cell_type": "markdown",
   "id": "4977e210-adc3-49cc-af3f-cfd11efd22d9",
   "metadata": {},
   "source": [
    "The algorithm HMMLGA is for calculating a causal adjacency matrix for a given GGM.\n",
    "\n",
    "The hyperparameters are: \n",
    "$$n_g\\dots Maximum\\ iterations$$\n",
    "$$m\\dots Population\\ size\\ (even)$$"
   ]
  },
  {
   "cell_type": "markdown",
   "id": "914a53a3-9269-4bb4-8dd2-e581f84718ab",
   "metadata": {},
   "source": [
    "## **Exercise 3-3** *Bivariate causal models on non-temporal data*"
   ]
  },
  {
   "cell_type": "markdown",
   "id": "59b0ba2c-f751-4c70-b03d-585177e3c865",
   "metadata": {},
   "source": [
    "### **a)** *Why is the causal relationship between X and Y by bivariate additive noise models for the linear-Gaussian case non-identifiable? Explain.*"
   ]
  },
  {
   "cell_type": "markdown",
   "id": "f9f1b303-8dd2-40b6-8a39-454ae25e61e8",
   "metadata": {},
   "source": [
    "Because the model induces the same joint distribution on X and Y, making it impossible to calculate $E_Y$ and $E_X$, because they have cyclic dependencies for $\\mu$ and $\\sigma^2$.\n",
    "$$\\mu_{E_X} = (1-\\alpha\\beta)\\mu_X - \\beta\\mu_{E_Y}$$\n",
    "$$\\sigma^2_{E_X} = (1-\\alpha\\beta)^2\\sigma^1_X+\\beta^2\\sigma^2_{E_Y}$$"
   ]
  },
  {
   "cell_type": "markdown",
   "id": "8cfa174f-afa6-426a-ae17-336071237600",
   "metadata": {},
   "source": [
    "### **b)** *Recall the example 1 from lecture 4:*\n",
    "$$solar\\ cell\\ (cause) \\rightarrow generation\\ of\\ electricity\\ (effect)$$\n",
    "\n",
    "One can change $P (cause)$ without affecting $P (effect|cause)$: A change of intensity/angle of sun changes\n",
    "the power output of the cell, but not the conditional distribution of the effect given the cause. One can\n",
    "change $P (effect|cause)$ without affecting $P (cause)$: \n",
    "\n",
    "E.g. by using more efficient cells - while this changes\n",
    "the power output of cells, it does not affect the distribution of the incoming radiation.\n",
    "To do the same in the anti-causal direction is hard: i.e. to find actions changing only $P(effect)$ and not\n",
    "$P (cause|effect)$ or vice versa, as due to their causal connection they are intrinsically (more) dependent\n",
    "on each other.\n",
    "\n",
    "Now let us have a pair of variable $X= age$ of a person and $Y = diastolic\\ blood\\ pressure$, see e.g. pair 0040\n",
    "in Mooij, J.M., Peters, J., Janzing, D., Zscheischler, J., Schölkopf, B. Distinguishing Cause from Effect\n",
    "Using Observational Data: Methods and Benchmarks. JMLR 17(32):1-102, 2016.\n",
    "\n",
    "What is the causal relation between $X$ and $Y$? How one could change $P (effect|cause)$ without affecting\n",
    "$P (cause)$ in the correct causal direction in this concrete case? Describe, how it would be in the anti-causal\n",
    "direction."
   ]
  },
  {
   "cell_type": "markdown",
   "id": "ee599211-484b-483e-b912-430e071f2f9a",
   "metadata": {},
   "source": [
    "$X$ causes $Y$. \n",
    "\n",
    "In this concrete case where $X= age$ and $Y = diastolic\\ blood\\ pressure$, one could change $P (Y|X)$ without affecting $P (X)$ by having the participants take blood pressure reducing medication.\n",
    "\n",
    "In the anti-causal direction, one would have to change the age, based on the blood pressure, which is actually impossible, because blood pressure cannot alter time."
   ]
  }
 ],
 "metadata": {
  "kernelspec": {
   "display_name": "Python 3 (ipykernel)",
   "language": "python",
   "name": "python3"
  },
  "language_info": {
   "codemirror_mode": {
    "name": "ipython",
    "version": 3
   },
   "file_extension": ".py",
   "mimetype": "text/x-python",
   "name": "python",
   "nbconvert_exporter": "python",
   "pygments_lexer": "ipython3",
   "version": "3.12.7"
  }
 },
 "nbformat": 4,
 "nbformat_minor": 5
}
